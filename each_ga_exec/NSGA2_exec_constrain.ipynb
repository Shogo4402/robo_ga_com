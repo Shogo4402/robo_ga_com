{
 "cells": [
  {
   "cell_type": "code",
   "execution_count": 1,
   "id": "292c61e5",
   "metadata": {},
   "outputs": [],
   "source": [
    "#自作モジュールimport\n",
    "import sys\n",
    "sys.path.append(\"C:\\\\Users\\\\yosiiiir\\\\Study_M2\\\\robo_ga_com\")\n",
    "import tool.tool1\n",
    "import tool.fuzzy_function as ff\n",
    "import tool.others_function as of\n",
    "import tool.result_function as rf\n",
    "import tool.robot_function as rof\n",
    "import tool.ea_function as eaf\n",
    "import tool.rw_function as rwf\n",
    "\n",
    "#必要な標準ライブラリimport\n",
    "import numpy as np\n",
    "import math\n",
    "import itertools\n",
    "import matplotlib.pyplot as plt\n",
    "import matplotlib.patches as patches\n",
    "import csv\n",
    "import os\n",
    "import openpyxl\n",
    "import pandas as pd\n",
    "import pprint\n",
    "import ast\n",
    "\n",
    "#pymoo\n",
    "from pymoo.util.misc import stack\n",
    "from pymoo.optimize import minimize\n",
    "from pymoo.visualization.scatter import Scatter\n",
    "from pymoo.core.problem import Problem\n",
    "from pymoo.algorithms.moo.nsga2 import NSGA2\n",
    "from pymoo.algorithms.soo.nonconvex.ga import GA\n",
    "from pymoo.operators.sampling.rnd import FloatRandomSampling\n",
    "from pymoo.operators.sampling.rnd import BinaryRandomSampling\n",
    "from pymoo.operators.crossover.sbx import SBX\n",
    "from pymoo.operators.mutation.pm import PolynomialMutation\n",
    "#from pymoo.factory import get_termination 非推奨\n",
    "from pymoo.termination import get_termination\n",
    "from pymoo.util import plotting\n",
    "from pymoo.core.problem import ElementwiseProblem\n"
   ]
  },
  {
   "cell_type": "code",
   "execution_count": 2,
   "id": "4ad88baa",
   "metadata": {},
   "outputs": [],
   "source": [
    "# 問題設定（自作関数）\n",
    "class MyProblem(Problem):\n",
    "    def __init__(self,fuzzy1_paras,fuzzy2_paras,object_items = [],contstrain_items=[]):\n",
    "        #######################変更する箇所###################################\n",
    "        #fuzzy1(走行速度型)\n",
    "        self.out_level1 = fuzzy1_paras[\"out_level1\"]\n",
    "        self.fuzzy_rule1 = fuzzy1_paras[\"fuzzy_rule1\"]\n",
    "        #self.fuzzy_rule1 = np.ones_like(self.fuzzy_rule1)*(-1)\n",
    "        #self.fuzzy_rule1 = np.array([[[0,1,2],[0,1,1],[0,0,0]],[[1,2,2],[1,1,1],[0,0,0]],[[2,2,2],[1,1,1],[0,0,0]]])\n",
    "        self.set_types1 = fuzzy1_paras[\"set_types1\"]\n",
    "        self.low1 = fuzzy1_paras[\"low1\"]\n",
    "        self.high1 = fuzzy1_paras[\"high1\"]\n",
    "        self.Kch1 = fuzzy1_paras[\"Kch1\"]\n",
    "        self.rule_Kch1 = np.any(self.fuzzy_rule1 == -1)\n",
    "        self.ruch_count1 = np.count_nonzero(self.fuzzy_rule1 == -1)\n",
    "        #self.ruch_count1 = False\n",
    "        self.ruch_countarr1 = False\n",
    "        \n",
    "        #fuzzy2(旋回速度型)\n",
    "        self.out_level2 = fuzzy2_paras[\"out_level2\"]\n",
    "        '''self.fuzzy_rule2 = np.array([[0,0,0,0,1,2,2],\n",
    "                                     [0,0,1,1,2,3,3],\n",
    "                                     [0,1,1,2,3,4,4],\n",
    "                                     [1,1,2,3,4,5,5],\n",
    "                                     [2,2,3,4,5,5,6],\n",
    "                                     [3,3,4,5,5,6,6],\n",
    "                                     [4,4,5,6,6,6,6]])'''\n",
    "        #self.fuzzy_rule2 = np.ones_like(self.fuzzy_rule2)*(-1)\n",
    "        self.fuzzy_rule2 = fuzzy2_paras[\"fuzzy_rule2\"]\n",
    "        #self.fuzzy_rule2 = np.array([[0,1,1,2,3],\n",
    "         #                            [1,1,2,3,4],\n",
    "          #                           [1,2,3,4,5],\n",
    "           #                          [2,3,4,5,5],\n",
    "            #                         [3,4,5,5,6]])\n",
    "        self.set_types2 = fuzzy2_paras[\"set_types2\"]\n",
    "        self.low2 = fuzzy2_paras[\"low2\"]\n",
    "        self.high2 = fuzzy2_paras[\"high2\"]\n",
    "        self.Kch2 = fuzzy2_paras[\"Kch2\"]\n",
    "        self.rule_Kch2 = np.any(self.fuzzy_rule2 == -1)\n",
    "        self.ruch_count2 = np.count_nonzero(self.fuzzy_rule2 == -1)\n",
    "        #self.ruch_count2 = False\n",
    "        self.ruch_countarr2 = False\n",
    "        ########################################################################\n",
    "        \n",
    "        #遺伝子の個数，最小，最大，Kの分割リスト\n",
    "        self.n_var,self.xl,self.xu,self.divi_list = self.Ks_combine()\n",
    "        self.object_items = object_items\n",
    "        self.n_obj = len(self.object_items)\n",
    "        self.constrain_items = contstrain_items\n",
    "        self.c_obj = len(self.constrain_items)\n",
    "        \n",
    "        #self.lms = of.circle_pos_produce(12,1)\n",
    "        #self.fpos_list = of.circle_fpos_produce(12,1)\n",
    "        #self.fpos_list = [np.array([0,0,math.pi/2]) for i in range(len(self.lms))]\n",
    "        self.lms = of.efficient_lms_produce()\n",
    "        self.fpos_list = of.efficient_fpos_produce()\n",
    "        #ここで予めファジィ制御の型を生成\n",
    "        self.obj_control = rof.obj_func(fuzzy_rule1 = self.fuzzy_rule1,set_types1 = self.set_types1,out_level1 = self.out_level1,fuzzy_rule2 = self.fuzzy_rule2,set_types2 = self.set_types2,out_level2 = self.out_level2,object_items = self.object_items)\n",
    "        \n",
    "        super().__init__(n_var=self.n_var,\n",
    "                         n_obj=self.n_obj,\n",
    "                         n_constr=self.c_obj,\n",
    "                         xl=self.xl,\n",
    "                         xu=self.xu,\n",
    "                         elementwise_evaluation=True\n",
    "                        )\n",
    "        \n",
    "    def _evaluate(self, x, out, *args, **kwargs):\n",
    "        lms=self.lms\n",
    "        fpos_list =self.fpos_list\n",
    "        #lms = of.lms_produce(1,10)\n",
    "        #fpos_list  = []\n",
    "        #for j in range(10):\n",
    "        #    fpos_list.append(of.fpos_decision(lms[j][0],lms[j][1],1))\n",
    "        f = []\n",
    "        ave_aps = []\n",
    "        for i in x:\n",
    "            i = i.tolist()\n",
    "            if self.ruch_count1!=0 or self.ruch_count2 != 0:\n",
    "                pop_set = self.Ks_divi_list(i[0:-(self.ruch_count1+self.ruch_count2)],self.divi_list)\n",
    "                self.obj_control.fuzzy_produce(pop_set,lms)\n",
    "                ruge_list = i[len(i[0:-(self.ruch_count1+self.ruch_count2)]):]\n",
    "                self.obj_control.fuzzy_rule1 = self.rule_changer(self.obj_control.fuzzy_rule1,self.ruch_count1,\n",
    "                                                        self.ruch_countarr1,ruge_list[0:self.ruch_count1])\n",
    "                self.obj_control.fuzzy_rule2 = self.rule_changer(self.obj_control.fuzzy_rule2,self.ruch_count2,\n",
    "                                                        self.ruch_countarr2,ruge_list[self.ruch_count1:self.ruch_count1+self.ruch_count2])\n",
    "            else:\n",
    "                pop_set = self.Ks_divi_list(i,self.divi_list)\n",
    "                self.obj_control.fuzzy_produce(pop_set,lms)\n",
    "            self.obj_control.fpos_list = fpos_list\n",
    "            f.append(self.obj_control.move_to_obj(3))\n",
    "            ave_aps.append(sum(self.obj_control.average_apoint)/len(self.obj_control.average_apoint))\n",
    "            \n",
    "        out[\"F\"] = [f]\n",
    "        #n_arr = np.array(f)\n",
    "        if self.c_obj==1:\n",
    "            out[\"G\"] = -np.array(ave_aps)+3\n",
    "        \n",
    "    def output_low_high(self,rule,set_types,low,high,Kch,out_level):\n",
    "        new_low = []\n",
    "        new_high = []\n",
    "        division_list = []\n",
    "        if set_types[-1]==0:\n",
    "            end_shape = out_level\n",
    "        else:\n",
    "            end_shape = out_level\n",
    "        shape_list = list(rule.shape)+[end_shape]\n",
    "        if Kch==False:\n",
    "            shape_list = [2]*len(shape_list)\n",
    "            \n",
    "        for r,t,l,h in zip(shape_list,set_types,low,high):\n",
    "            if t==0:\n",
    "                r = r//2+1\n",
    "            new_low.append(l*(r-1))\n",
    "            new_high.append(h*(r-1))\n",
    "            division_list.append(r-1)\n",
    "        return new_low,new_high,division_list\n",
    "    \n",
    "    def rule_change_count(self,end_level,fuzzy_rule):\n",
    "        low_list = []\n",
    "        high_list = []\n",
    "        count = np.count_nonzero(fuzzy_rule == -1)\n",
    "        count_arr = np.where(fuzzy_rule==-1)\n",
    "        if not count:\n",
    "            count=0\n",
    "            count_arr = False\n",
    "            return low_list,high_list,count,count_arr\n",
    "\n",
    "        for i in range(count):\n",
    "            low_list.append([0])\n",
    "            high_list.append([end_level])\n",
    "        return low_list,high_list,count,count_arr\n",
    "    \n",
    "    def rule_changer(self,fuzzy_rule,count,countarr,set_no):\n",
    "        if count==0:\n",
    "            return fuzzy_rule\n",
    "        else:\n",
    "            for x,y,s in zip(countarr[0],countarr[1],set_no):\n",
    "                fuzzy_rule[x][y]=int(s)\n",
    "        return fuzzy_rule\n",
    "    \n",
    "    def Ks_combine(self):\n",
    "        rule_low1=[[]]\n",
    "        rule_high1=[[]]\n",
    "        rule_low2=[[]]\n",
    "        rule_high2=[[]]\n",
    "        if self.rule_Kch1:\n",
    "            rule_low1,rule_high1,self.ruch_count1,self.ruch_countarr1 = self.rule_change_count(self.out_level1,self.fuzzy_rule1)\n",
    "        if self.rule_Kch2:\n",
    "            rule_low2,rule_high2 ,self.ruch_count2,self.ruch_countarr2= self.rule_change_count(self.out_level2,self.fuzzy_rule2)\n",
    "        \n",
    "        new_low1,new_high1,divi1 = self.output_low_high(self.fuzzy_rule1,self.set_types1,self.low1,self.high1,self.Kch1,self.out_level1)\n",
    "        new_low2,new_high2,divi2 = self.output_low_high(self.fuzzy_rule2,self.set_types2,self.low2,self.high2,self.Kch2,self.out_level2)\n",
    "        low = list(itertools.chain.from_iterable(new_low1+new_low2+rule_low1+rule_low2))\n",
    "        high = list(itertools.chain.from_iterable(new_high1+new_high2+rule_high1+rule_high2))\n",
    "        divi_li = divi1+divi2\n",
    "        n_var = len(low)\n",
    "        xl=np.array(low)\n",
    "        xu=np.array(high)\n",
    "        return n_var,xl,xu,divi_li\n",
    "\n",
    "    def Ks_divi_list(self,pli,divi_li):\n",
    "        Ks_list = []\n",
    "        n = 0\n",
    "        for d in divi_li:\n",
    "            Ks_list.append(pli[n:n+d:1])\n",
    "            n += d\n",
    "        return Ks_list"
   ]
  },
  {
   "cell_type": "code",
   "execution_count": 3,
   "id": "3bfd3961",
   "metadata": {
    "scrolled": true
   },
   "outputs": [],
   "source": [
    "optimization = 0\n",
    "#fuzzy1(走行速度型)\n",
    "fuzzy1_paras = {\"out_level1\":3,\n",
    "                \"fuzzy_rule1\" :np.array([[[0,1,2],[0,1,1],[0,0,0]],[[1,2,2],[1,1,1],[0,0,0]],[[2,2,2],[1,1,1],[0,0,0]]]),\n",
    "                \"set_types1\" :[1,1,1,-1],\n",
    "                \"low1\" :[[math.pi/180],[10],[10],[50]],\n",
    "                \"high1\" :[[math.pi/2],[500],[500],[180]],\n",
    "                \"Kch1\" :True}\n",
    "\n",
    "        \n",
    "#fuzzy2(旋回速度型)\n",
    "fuzzy2_paras = {\"out_level2\": 7,\n",
    "                \"fuzzy_rule2\":np.array([[0,0,0,1,2,3,4],[0,0,1,1,2,3,4],[0,1,1,2,3,4,5],[0,1,2,3,4,5,6],[1,2,3,4,5,5,6],[2,3,4,5,5,6,6],[2,3,4,5,6,6,6]])\n",
    "#fuzzy_rule2 = np.array([[0,0,0,1,2,3,4],[0,0,1,1,2,3,4],[-1,-1,-1,-1,-1,-1,-1],[-1,-1,-1,-1,-1,-1,-1],[-1,-1,-1,-1,-1,-1,-1],[2,3,4,5,5,6,6],[2,3,4,5,6,6,6]])\n",
    "#fuzzy_rule2 = np.ones_like(fuzzy_rule2)*(-1)\n",
    "                ,\"set_types2\": [0,0,0],\n",
    "                \"low2\" :[[math.pi/180],[10],[100]],\n",
    "                \"high2\" :[[math.pi/2],[200],[200]],\n",
    "                \"Kch2\" : True}\n",
    "\n",
    "###その他 # \"end_time\", \"err_distance\", \"direction_shake\",\"speed\",\"next_direction\"，\"rule2_value\" \n",
    "object_items = [\"direction_shake\",\"speed\",\"next_direction\"]\n",
    "constrain_items = [\"avg_goal_point\"]\n",
    "seed_no = 1\n",
    "ga_opes = {\"ga_name\":\"NSGA2\",\n",
    "           \"seed\":seed_no,\n",
    "           \"pop_size\":50,\n",
    "           \"end_gen\":50}\n",
    "\n",
    "if optimization:\n",
    "    for i in range(5):\n",
    "        seed_no = i+1\n",
    "        ga_opes = {\"ga_name\":\"NSGA2\",\n",
    "                   \"seed\":seed_no,\n",
    "                   \"pop_size\":50,\n",
    "                   \"end_gen\":50}\n",
    "        #アルゴリズム初期化（NSGA-IIを使用）\n",
    "        problem = MyProblem(fuzzy1_paras,fuzzy2_paras,object_items,constrain_items )\n",
    "        algorithm = NSGA2(\n",
    "            pop_size=ga_opes[\"pop_size\"],\n",
    "            sampling=FloatRandomSampling(),\n",
    "            crossover=SBX(prob=0.9, eta=5),\n",
    "            mutation=PolynomialMutation(prob=1.0, eta=5),\n",
    "            eliminate_duplicates=False\n",
    "        )\n",
    "        # 終了条件（この場合は世代数）\n",
    "        termination = get_termination(\"n_gen\",ga_opes[\"end_gen\"])\n",
    "        # アルゴリズムの実行\n",
    "        print(\"GA START!\")\n",
    "        res = minimize(problem,algorithm,termination,\n",
    "                       seed=seed_no,\n",
    "                       save_history=True,\n",
    "                       verbose=True)\n",
    "        print(\"計測時間 : \"+str(res.exec_time)+\"[s]\")\n",
    "    \n",
    "        file_name = \"./data_folder/NSGA2_para_datas.xlsx\"\n",
    "        tmp = ga_opes[\"seed\"]\n",
    "        ga_opes[\"seed\"] = None\n",
    "        ga_para_keys = list(ga_opes.keys())+list(fuzzy1_paras.keys()) + list(fuzzy2_paras.keys())+[\"object_items\"]+[\"constrain_items\"]\n",
    "        ga_para_values = list(ga_opes.values())+list(fuzzy1_paras.values())+list(fuzzy2_paras.values())+[\"_\".join(object_items)]+[\"_\".join(constrain_items)]\n",
    "        ###ファイルの確認，無かったら作成\n",
    "        rwf.confirm_file(file_name)\n",
    "        ###既存のシートがあるかの確認 シートからはじめのセルの値を読み込み比較\n",
    "        sheet_name_dicision = rwf.save_gaparas(file_name,ga_para_keys,ga_para_values)\n",
    "        ###個体の保存\n",
    "        ga_opes[\"seed\"]=tmp\n",
    "        rwf.save_datas(file_name,res.F,res.X,object_items,sheet_name_dicision,ga_opes[\"seed\"])"
   ]
  },
  {
   "cell_type": "code",
   "execution_count": 4,
   "id": "cdf9cf70",
   "metadata": {
    "scrolled": true
   },
   "outputs": [
    {
     "ename": "NameError",
     "evalue": "name 'res' is not defined",
     "output_type": "error",
     "traceback": [
      "\u001b[1;31m---------------------------------------------------------------------------\u001b[0m",
      "\u001b[1;31mNameError\u001b[0m                                 Traceback (most recent call last)",
      "Input \u001b[1;32mIn [4]\u001b[0m, in \u001b[0;36m<cell line: 1>\u001b[1;34m()\u001b[0m\n\u001b[1;32m----> 1\u001b[0m \u001b[43mres\u001b[49m\u001b[38;5;241m.\u001b[39mF\n",
      "\u001b[1;31mNameError\u001b[0m: name 'res' is not defined"
     ]
    }
   ],
   "source": [
    "res.F"
   ]
  },
  {
   "cell_type": "code",
   "execution_count": 5,
   "id": "e15e66fa",
   "metadata": {},
   "outputs": [
    {
     "ename": "NameError",
     "evalue": "name 'res' is not defined",
     "output_type": "error",
     "traceback": [
      "\u001b[1;31m---------------------------------------------------------------------------\u001b[0m",
      "\u001b[1;31mNameError\u001b[0m                                 Traceback (most recent call last)",
      "Input \u001b[1;32mIn [5]\u001b[0m, in \u001b[0;36m<cell line: 2>\u001b[1;34m()\u001b[0m\n\u001b[0;32m      1\u001b[0m \u001b[38;5;66;03m#最後の世代の個体ゲット\u001b[39;00m\n\u001b[1;32m----> 2\u001b[0m pop \u001b[38;5;241m=\u001b[39m \u001b[43mres\u001b[49m\u001b[38;5;241m.\u001b[39mpop\n\u001b[0;32m      3\u001b[0m \u001b[38;5;66;03m#個体を選ぶ\u001b[39;00m\n\u001b[0;32m      4\u001b[0m pop_no \u001b[38;5;241m=\u001b[39m of\u001b[38;5;241m.\u001b[39mpop_No_update(res,\u001b[38;5;28;01mNone\u001b[39;00m)\u001b[38;5;66;03m#Noneで合計の距離最も短い個体\u001b[39;00m\n",
      "\u001b[1;31mNameError\u001b[0m: name 'res' is not defined"
     ]
    }
   ],
   "source": [
    "#最後の世代の個体ゲット\n",
    "pop = res.pop\n",
    "#個体を選ぶ\n",
    "pop_no = of.pop_No_update(res,None)#Noneで合計の距離最も短い個体\n",
    "#ファジィ制御更新\n",
    "problem,Kis = of.fuzzy_control_new_set(problem,pop_no,pop) # pop_no = Noneでデフォルト\n",
    "#X = indivi_arr[:,3:-1]\n",
    "#Kis = problem.Ks_divi_list(X[0],problem.divi_list)\n",
    "#problem.obj_control.fuzzy_produce(Kis,None)\n",
    "#出力結果 \n",
    "drive_result = 1\n",
    "obj_func_value_result = 0\n",
    "rule_result=0\n",
    "member_result=0\n",
    "lms_list = []\n",
    "r = 1\n",
    "for i in range(1,25):\n",
    "    theta = i*math.pi/12\n",
    "    x = r*math.cos(theta)\n",
    "    y = r*math.sin(theta)\n",
    "    lms_list.append([x,y])\n",
    "if drive_result:\n",
    "    fpos = [1,0,math.pi/2]\n",
    "    lms = np.array([[0,0],[0,0.5],[-0.5,0.5],[-0.5,-0.5],[0.5,-0.5],[0.5,0.5]])\n",
    "    #lms = np.array([[0,0],[0,1],[0,2],[0,4]])\n",
    "    #lms = np.array(lms_list)\n",
    "    datas = rf.drive_test(problem,Kis,fpos,lms,20,5)\n",
    "    rf.drive_test_orbit(problem.obj_control)\n",
    "    \n",
    "if obj_func_value_result:\n",
    "    rf.print_obj_func(problem,res,1)\n",
    "if rule_result or member_result:\n",
    "    rf.print_result(member_result,rule_result,problem.obj_control,pop[pop_no],Kis)"
   ]
  },
  {
   "cell_type": "code",
   "execution_count": 6,
   "id": "56f87f32",
   "metadata": {},
   "outputs": [],
   "source": [
    "##ファイル新規作成，データ保存\n",
    "if 0:\n",
    "    file_name = \"./data_folder/NSGA2_para_datas.xlsx\"\n",
    "    tmp = ga_opes[\"seed\"]\n",
    "    ga_opes[\"seed\"] = None\n",
    "    ga_para_keys = list(ga_opes.keys())+list(fuzzy1_paras.keys()) + list(fuzzy2_paras.keys())+[\"object_items\"]+[\"constrain_items\"]\n",
    "    ga_para_values = list(ga_opes.values())+list(fuzzy1_paras.values())+list(fuzzy2_paras.values())+[\"+\".join(object_items)]+[\"_\".join(constrain_items)]\n",
    "    ###ファイルの確認，無かったら作成\n",
    "    rwf.confirm_file(file_name)\n",
    "    ###既存のシートがあるかの確認 シートからはじめのセルの値を読み込み比較\n",
    "    sheet_name_dicision = rwf.save_gaparas(file_name,ga_para_keys,ga_para_values)\n",
    "    ###個体の保存\n",
    "    ga_opes[\"seed\"]=tmp\n",
    "    rwf.save_datas(file_name,res.F,res.X,object_items,sheet_name_dicision,ga_opes[\"seed\"])"
   ]
  },
  {
   "cell_type": "code",
   "execution_count": 7,
   "id": "328b415e",
   "metadata": {},
   "outputs": [
    {
     "ename": "NameError",
     "evalue": "name 'case_set_train' is not defined",
     "output_type": "error",
     "traceback": [
      "\u001b[1;31m---------------------------------------------------------------------------\u001b[0m",
      "\u001b[1;31mNameError\u001b[0m                                 Traceback (most recent call last)",
      "Input \u001b[1;32mIn [7]\u001b[0m, in \u001b[0;36m<cell line: 6>\u001b[1;34m()\u001b[0m\n\u001b[0;32m      4\u001b[0m items \u001b[38;5;241m=\u001b[39m [\u001b[38;5;241m1\u001b[39m,\u001b[38;5;241m2\u001b[39m]\n\u001b[0;32m      5\u001b[0m evalues \u001b[38;5;241m=\u001b[39m [\u001b[38;5;124m\"\u001b[39m\u001b[38;5;124mend_time\u001b[39m\u001b[38;5;124m\"\u001b[39m, \u001b[38;5;124m\"\u001b[39m\u001b[38;5;124merr_distance\u001b[39m\u001b[38;5;124m\"\u001b[39m, \u001b[38;5;124m\"\u001b[39m\u001b[38;5;124mdirection_shake\u001b[39m\u001b[38;5;124m\"\u001b[39m,\u001b[38;5;124m\"\u001b[39m\u001b[38;5;124mspeed\u001b[39m\u001b[38;5;124m\"\u001b[39m,\u001b[38;5;124m\"\u001b[39m\u001b[38;5;124mnext_direction\u001b[39m\u001b[38;5;124m\"\u001b[39m]\n\u001b[1;32m----> 6\u001b[0m compare_sets \u001b[38;5;241m=\u001b[39m rwf\u001b[38;5;241m.\u001b[39mprint_compare_set(\u001b[43mcase_set_train\u001b[49m,items,evalues)\n\u001b[0;32m      7\u001b[0m rwf\u001b[38;5;241m.\u001b[39mtrain_compare_display(case_set_train,compare_sets,[\u001b[38;5;241m0\u001b[39m,\u001b[38;5;241m1\u001b[39m],\u001b[38;5;28;01mTrue\u001b[39;00m)\n",
      "\u001b[1;31mNameError\u001b[0m: name 'case_set_train' is not defined"
     ]
    }
   ],
   "source": [
    "file_name = \"./data_folder/NSGA2_para_datas.xlsx\"\n",
    "if 0:\n",
    "    case_set_train = rwf.train_course_evalues(file_name,20)\n",
    "items = [1,2]\n",
    "evalues = [\"end_time\", \"err_distance\", \"direction_shake\",\"speed\",\"next_direction\"]\n",
    "compare_sets = rwf.print_compare_set(case_set_train,items,evalues)\n",
    "rwf.train_compare_display(case_set_train,compare_sets,[0,1],True)"
   ]
  },
  {
   "cell_type": "code",
   "execution_count": 15,
   "id": "3a544b62",
   "metadata": {
    "scrolled": false
   },
   "outputs": [
    {
     "name": "stdout",
     "output_type": "stream",
     "text": [
      "0 0 ['err_distance', 'direction_shake']\n",
      "1 10 ['end_time', 'err_distance', 'direction_shake']\n",
      "2 16 ['err_distance', 'direction_shake', 'speed']\n",
      "3 17 ['err_distance', 'direction_shake', 'next_direction']\n"
     ]
    },
    {
     "data": {
      "image/png": "[encoded data removed]",
      "text/plain": [
       "<Figure size 432x288 with 1 Axes>"
      ]
     },
     "metadata": {
      "needs_background": "light"
     },
     "output_type": "display_data"
    },
    {
     "data": {
      "image/png": "[encoded data removed]",
      "text/plain": [
       "<Figure size 432x288 with 1 Axes>"
      ]
     },
     "metadata": {
      "needs_background": "light"
     },
     "output_type": "display_data"
    }
   ],
   "source": [
    "if 0:\n",
    "    case_set_test = rwf.test_course_evalues(file_name,20)\n",
    "items = [1,2]\n",
    "evalues = [\"end_time\", \"err_distance\", \"direction_shake\",\"speed\",\"next_direction\"]\n",
    "rwf.print_compare_set(case_set_test,items,evalues)\n",
    "sets = [0,16]\n",
    "items_no = [0,1]\n",
    "rwf.test_compare_display(case_set_test,sets,items_no,True,False)"
   ]
  },
  {
   "cell_type": "code",
   "execution_count": 13,
   "id": "b2f557a9",
   "metadata": {
    "scrolled": true
   },
   "outputs": [
    {
     "data": {
      "image/png": "[encoded data removed]",
      "text/plain": [
       "<Figure size 432x288 with 1 Axes>"
      ]
     },
     "metadata": {
      "needs_background": "light"
     },
     "output_type": "display_data"
    },
    {
     "data": {
      "image/png": "[encoded data removed]",
      "text/plain": [
       "<Figure size 432x288 with 1 Axes>"
      ]
     },
     "metadata": {
      "needs_background": "light"
     },
     "output_type": "display_data"
    },
    {
     "data": {
      "image/png": "[encoded data removed]",
      "text/plain": [
       "<Figure size 432x288 with 1 Axes>"
      ]
     },
     "metadata": {
      "needs_background": "light"
     },
     "output_type": "display_data"
    },
    {
     "data": {
      "image/png": "[encoded data removed]",
      "text/plain": [
       "<Figure size 432x288 with 1 Axes>"
      ]
     },
     "metadata": {
      "needs_background": "light"
     },
     "output_type": "display_data"
    },
    {
     "data": {
      "image/png": "[encoded data removed]",
      "text/plain": [
       "<Figure size 432x288 with 1 Axes>"
      ]
     },
     "metadata": {
      "needs_background": "light"
     },
     "output_type": "display_data"
    }
   ],
   "source": [
    "sets = [0,10,16,17]\n",
    "items_no = [0,1,2,3,4]\n",
    "rwf.test_compare_display(case_set_test,sets,items_no,False,True)"
   ]
  },
  {
   "cell_type": "code",
   "execution_count": 16,
   "id": "4143e9e3",
   "metadata": {},
   "outputs": [],
   "source": [
    "#v=rf.save_drive_orbit(problem,Kis,fpos,lms,10,False,3)\n",
    "#save_control_values(problem.obj_control)"
   ]
  },
  {
   "cell_type": "code",
   "execution_count": null,
   "id": "4e3ebd9a",
   "metadata": {
    "scrolled": true
   },
   "outputs": [],
   "source": [
    "#アルゴリズムの性能評価\n",
    "hv = 0\n",
    "rm = 0\n",
    "ref_point=np.array([100,100,100])\n",
    "b = eaf.evaluation_algorithm(res,hv,rm,ref_point)"
   ]
  },
  {
   "cell_type": "code",
   "execution_count": null,
   "id": "fbb1bf87",
   "metadata": {},
   "outputs": [],
   "source": [
    "#個体のばらつき具合確認\n",
    "if 0:\n",
    "    eaf.print_object_space(res,problem,0,1)\n",
    "    eaf.print_norm_object_space(res,0,1)\n",
    "    \n",
    "#個体の選択（重みバージョン）\n",
    "if 0:\n",
    "    weights = np.array([0.6,0.4])\n",
    "    eaf.print_pseudo_weights(res,weights,0,1)\n",
    "    eaf.print_asf(res,weights,0,1)"
   ]
  },
  {
   "cell_type": "code",
   "execution_count": null,
   "id": "644f38f2",
   "metadata": {},
   "outputs": [],
   "source": [
    "F = res.F\n",
    "fl = F.min(axis=0)\n",
    "fu = F.max(axis=0)\n",
    "print(f\"Scale f1: [{fl[0]}, {fu[0]}]\")\n",
    "print(f\"Scale f2: [{fl[1]}, {fu[1]}]\")"
   ]
  },
  {
   "cell_type": "code",
   "execution_count": null,
   "id": "d3e9f675",
   "metadata": {
    "scrolled": true
   },
   "outputs": [],
   "source": [
    "def app_count_calc(problem,Kis,xy,r):\n",
    "    #lms =of.lms_produce(1,1)\n",
    "    lms = of.circle_pos_produce(12,r)\n",
    "    app1_count =np.zeros_like(problem.obj_control.fuzzy1.rule)\n",
    "    app2_count =np.zeros_like(problem.obj_control.fuzzy2.rule)\n",
    "    for lm in lms:\n",
    "        #fpos = of.fpos_decision(lm[0],lm[1],1)\n",
    "        fpos = np.array([xy[0],xy[1],xy[2]])\n",
    "        datas = rf.drive_test(problem,Kis,fpos,lm,30)\n",
    "        for x1 in problem.obj_control.fuzzy1.appearanceList:\n",
    "            app1_count[x1[0]][x1[1]][x1[2]]+=1\n",
    "        for x2 in problem.obj_control.fuzzy2.appearanceList:\n",
    "            app2_count[x2[0]][x2[1]]+=1\n",
    "    print(app1_count)\n",
    "    print(app2_count)\n",
    "    return app2_count\n",
    "\n",
    "def circle_fpos_produce(n,r):\n",
    "    fposs = []\n",
    "    for i in range(0,n):\n",
    "        theta = i*math.pi/n\n",
    "        x = r*math.cos(theta)\n",
    "        y = r*math.sin(theta)\n",
    "        fposs.append(np.array([x,y,theta]))\n",
    "    return fposs"
   ]
  },
  {
   "cell_type": "code",
   "execution_count": null,
   "id": "97950d0d",
   "metadata": {},
   "outputs": [],
   "source": [
    "'''import ast\n",
    "string = (str(ga_para_values[6]))\n",
    "output = ast.literal_eval(string)\n",
    "output'''"
   ]
  },
  {
   "cell_type": "code",
   "execution_count": null,
   "id": "6b72e87e",
   "metadata": {},
   "outputs": [],
   "source": [
    "'''a = np.array(\n",
    "        [[  60,   24,   25,  298,  297,   36,   36],\n",
    "       [  36,    0,    1,  176,  229,   84,   54],\n",
    "       [   0,   12,  500, 1586, 1140,   60,   42],\n",
    "       [  36,   12, 2533, 4173, 1664,   24,   24],\n",
    "       [ 156,  132, 2154, 2689,  631,   12,    0],\n",
    "       [ 300,  264,  180,   36,    0,    0,    0],\n",
    "       [ 180,  132,   68,   14,   18,   24,   24]])'''"
   ]
  }
 ],
 "metadata": {
  "kernelspec": {
   "display_name": "Python 3 (ipykernel)",
   "language": "python",
   "name": "python3"
  },
  "language_info": {
   "codemirror_mode": {
    "name": "ipython",
    "version": 3
   },
   "file_extension": ".py",
   "mimetype": "text/x-python",
   "name": "python",
   "nbconvert_exporter": "python",
   "pygments_lexer": "ipython3",
   "version": "3.9.12"
  }
 },
 "nbformat": 4,
 "nbformat_minor": 5
}
